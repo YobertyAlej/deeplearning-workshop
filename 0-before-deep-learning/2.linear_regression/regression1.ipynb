{
 "cells": [
  {
   "cell_type": "code",
   "execution_count": null,
   "metadata": {
    "collapsed": false
   },
   "outputs": [],
   "source": [
    "# Let's fetch housing data that comes with sklearn\n",
    "import numpy as np\n",
    "from sklearn.datasets import load_boston\n",
    "boston = load_boston()\n",
    "print boston.data.shape"
   ]
  },
  {
   "cell_type": "code",
   "execution_count": null,
   "metadata": {
    "collapsed": false
   },
   "outputs": [],
   "source": [
    "#Let's check out the structure of the dataset\n",
    "print boston.keys()\n",
    "\n",
    "#The DESCR has some description of the data, uncomment and run to read\n",
    "print boston.DESCR\n"
   ]
  },
  {
   "cell_type": "code",
   "execution_count": null,
   "metadata": {
    "collapsed": false
   },
   "outputs": [],
   "source": [
    "#Great, as expected the dataset contains housing data with several parameters including no of bedrooms etc. and \n",
    "#the target variable as the average house value. \n",
    "print boston.feature_names;"
   ]
  },
  {
   "cell_type": "code",
   "execution_count": null,
   "metadata": {
    "collapsed": false
   },
   "outputs": [],
   "source": [
    "# Let's see how one row in our data looks like.\n",
    "print boston.data[0]\n",
    "print boston.target[0]"
   ]
  },
  {
   "cell_type": "code",
   "execution_count": null,
   "metadata": {
    "collapsed": false
   },
   "outputs": [],
   "source": [
    "# Let's explore a little\n",
    "import pandas as pd\n",
    "bos = pd.DataFrame(boston.data)\n",
    "bos.head()\n",
    "\n"
   ]
  },
  {
   "cell_type": "code",
   "execution_count": null,
   "metadata": {
    "collapsed": false
   },
   "outputs": [],
   "source": [
    "# Column names are missing, let's add them\n",
    "bos.columns = boston.feature_names\n",
    "bos.head()"
   ]
  },
  {
   "cell_type": "code",
   "execution_count": null,
   "metadata": {
    "collapsed": false
   },
   "outputs": [],
   "source": [
    "# Let's add prices too\n",
    "bosWithPrice = bos.copy()\n",
    "bosWithPrice['PRICE'] = boston.target\n",
    "bosWithPrice.head()"
   ]
  },
  {
   "cell_type": "code",
   "execution_count": null,
   "metadata": {
    "collapsed": false
   },
   "outputs": [],
   "source": [
    "# Let's do some plotting\n",
    "#to enable plotting inline and not in new window:\n",
    "%matplotlib inline \n",
    "\n",
    "import matplotlib.pylab as plt\n",
    "\n",
    "# Let's see how each of those features relate with prices\n",
    "\n",
    "# TODO: Add a scatter plot to visualize features vs prices"
   ]
  },
  {
   "cell_type": "code",
   "execution_count": null,
   "metadata": {
    "collapsed": false
   },
   "outputs": [],
   "source": [
    "# Choose one feature which seems to relate most and use that only\n",
    "smaller = bos[[\"<FEATURE_NAME_HERE\"]]"
   ]
  },
  {
   "cell_type": "code",
   "execution_count": null,
   "metadata": {
    "collapsed": false
   },
   "outputs": [],
   "source": [
    "#Let's now split the dataset into train and test sets so we can find out how well the model can generalize. \n",
    "from sklearn.cross_validation import train_test_split\n",
    "        \n",
    "X_train, X_test, y_train, y_test = train_test_split(smaller, boston.target,test_size=0.33, random_state=42)\n",
    "print X_train.shape, X_test.shape, y_train.shape, y_test.shape\n"
   ]
  },
  {
   "cell_type": "code",
   "execution_count": null,
   "metadata": {
    "collapsed": false
   },
   "outputs": [],
   "source": [
    "from sklearn.linear_model import LinearRegression\n",
    "\n",
    "#Let's fit the LinearRegression classifier to the training set \n",
    "# TODO: 'fit' on your training data\n"
   ]
  },
  {
   "cell_type": "code",
   "execution_count": null,
   "metadata": {
    "collapsed": false
   },
   "outputs": [],
   "source": [
    "#Let's check out the score using the R-squared which tells us how much of the \n",
    "#variance of the data is captured by the model. The higher this number is, the better. \n",
    "\n",
    "# TODO: after you have fit, try scoring your data \n"
   ]
  },
  {
   "cell_type": "code",
   "execution_count": null,
   "metadata": {
    "collapsed": true
   },
   "outputs": [],
   "source": []
  }
 ],
 "metadata": {
  "kernelspec": {
   "display_name": "Python 2",
   "language": "python",
   "name": "python2"
  },
  "language_info": {
   "codemirror_mode": {
    "name": "ipython",
    "version": 2
   },
   "file_extension": ".py",
   "mimetype": "text/x-python",
   "name": "python",
   "nbconvert_exporter": "python",
   "pygments_lexer": "ipython2",
   "version": "2.7.6"
  }
 },
 "nbformat": 4,
 "nbformat_minor": 0
}
